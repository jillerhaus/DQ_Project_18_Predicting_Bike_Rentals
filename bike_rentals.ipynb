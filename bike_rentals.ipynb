{
 "cells": [
  {
   "cell_type": "markdown",
   "metadata": {},
   "source": [
    "## Project Bike Rentals\n",
    "\n",
    "In this project a dataset of bike rentals in the Washington D.C. area will be explored. Different machine learning models will be created using the scikit-learn library to predict the amount of hourly rentals. The efficiency of the different models will then be compared."
   ]
  },
  {
   "cell_type": "code",
   "execution_count": 2,
   "metadata": {},
   "outputs": [],
   "source": [
    "import pandas as pd\n",
    "import matplotlib.pyplot as plt\n",
    "%matplotlib inline\n",
    "import numpy as np\n",
    "import seaborn as sns\n",
    "import math"
   ]
  },
  {
   "cell_type": "markdown",
   "metadata": {},
   "source": [
    "# Setup"
   ]
  },
  {
   "cell_type": "markdown",
   "metadata": {},
   "source": [
    "Loading the Dataset"
   ]
  },
  {
   "cell_type": "code",
   "execution_count": 3,
   "metadata": {},
   "outputs": [
    {
     "name": "stdout",
     "output_type": "stream",
     "text": [
      "(17379, 17)\n"
     ]
    },
    {
     "data": {
      "text/html": [
       "<div>\n",
       "<style scoped>\n",
       "    .dataframe tbody tr th:only-of-type {\n",
       "        vertical-align: middle;\n",
       "    }\n",
       "\n",
       "    .dataframe tbody tr th {\n",
       "        vertical-align: top;\n",
       "    }\n",
       "\n",
       "    .dataframe thead th {\n",
       "        text-align: right;\n",
       "    }\n",
       "</style>\n",
       "<table border=\"1\" class=\"dataframe\">\n",
       "  <thead>\n",
       "    <tr style=\"text-align: right;\">\n",
       "      <th></th>\n",
       "      <th>instant</th>\n",
       "      <th>dteday</th>\n",
       "      <th>season</th>\n",
       "      <th>yr</th>\n",
       "      <th>mnth</th>\n",
       "      <th>hr</th>\n",
       "      <th>holiday</th>\n",
       "      <th>weekday</th>\n",
       "      <th>workingday</th>\n",
       "      <th>weathersit</th>\n",
       "      <th>temp</th>\n",
       "      <th>atemp</th>\n",
       "      <th>hum</th>\n",
       "      <th>windspeed</th>\n",
       "      <th>casual</th>\n",
       "      <th>registered</th>\n",
       "      <th>cnt</th>\n",
       "    </tr>\n",
       "  </thead>\n",
       "  <tbody>\n",
       "    <tr>\n",
       "      <th>17374</th>\n",
       "      <td>17375</td>\n",
       "      <td>2012-12-31</td>\n",
       "      <td>1</td>\n",
       "      <td>1</td>\n",
       "      <td>12</td>\n",
       "      <td>19</td>\n",
       "      <td>0</td>\n",
       "      <td>1</td>\n",
       "      <td>1</td>\n",
       "      <td>2</td>\n",
       "      <td>0.26</td>\n",
       "      <td>0.2576</td>\n",
       "      <td>0.60</td>\n",
       "      <td>0.1642</td>\n",
       "      <td>11</td>\n",
       "      <td>108</td>\n",
       "      <td>119</td>\n",
       "    </tr>\n",
       "    <tr>\n",
       "      <th>17375</th>\n",
       "      <td>17376</td>\n",
       "      <td>2012-12-31</td>\n",
       "      <td>1</td>\n",
       "      <td>1</td>\n",
       "      <td>12</td>\n",
       "      <td>20</td>\n",
       "      <td>0</td>\n",
       "      <td>1</td>\n",
       "      <td>1</td>\n",
       "      <td>2</td>\n",
       "      <td>0.26</td>\n",
       "      <td>0.2576</td>\n",
       "      <td>0.60</td>\n",
       "      <td>0.1642</td>\n",
       "      <td>8</td>\n",
       "      <td>81</td>\n",
       "      <td>89</td>\n",
       "    </tr>\n",
       "    <tr>\n",
       "      <th>17376</th>\n",
       "      <td>17377</td>\n",
       "      <td>2012-12-31</td>\n",
       "      <td>1</td>\n",
       "      <td>1</td>\n",
       "      <td>12</td>\n",
       "      <td>21</td>\n",
       "      <td>0</td>\n",
       "      <td>1</td>\n",
       "      <td>1</td>\n",
       "      <td>1</td>\n",
       "      <td>0.26</td>\n",
       "      <td>0.2576</td>\n",
       "      <td>0.60</td>\n",
       "      <td>0.1642</td>\n",
       "      <td>7</td>\n",
       "      <td>83</td>\n",
       "      <td>90</td>\n",
       "    </tr>\n",
       "    <tr>\n",
       "      <th>17377</th>\n",
       "      <td>17378</td>\n",
       "      <td>2012-12-31</td>\n",
       "      <td>1</td>\n",
       "      <td>1</td>\n",
       "      <td>12</td>\n",
       "      <td>22</td>\n",
       "      <td>0</td>\n",
       "      <td>1</td>\n",
       "      <td>1</td>\n",
       "      <td>1</td>\n",
       "      <td>0.26</td>\n",
       "      <td>0.2727</td>\n",
       "      <td>0.56</td>\n",
       "      <td>0.1343</td>\n",
       "      <td>13</td>\n",
       "      <td>48</td>\n",
       "      <td>61</td>\n",
       "    </tr>\n",
       "    <tr>\n",
       "      <th>17378</th>\n",
       "      <td>17379</td>\n",
       "      <td>2012-12-31</td>\n",
       "      <td>1</td>\n",
       "      <td>1</td>\n",
       "      <td>12</td>\n",
       "      <td>23</td>\n",
       "      <td>0</td>\n",
       "      <td>1</td>\n",
       "      <td>1</td>\n",
       "      <td>1</td>\n",
       "      <td>0.26</td>\n",
       "      <td>0.2727</td>\n",
       "      <td>0.65</td>\n",
       "      <td>0.1343</td>\n",
       "      <td>12</td>\n",
       "      <td>37</td>\n",
       "      <td>49</td>\n",
       "    </tr>\n",
       "  </tbody>\n",
       "</table>\n",
       "</div>"
      ],
      "text/plain": [
       "       instant      dteday  season  yr  mnth  hr  holiday  weekday  \\\n",
       "17374    17375  2012-12-31       1   1    12  19        0        1   \n",
       "17375    17376  2012-12-31       1   1    12  20        0        1   \n",
       "17376    17377  2012-12-31       1   1    12  21        0        1   \n",
       "17377    17378  2012-12-31       1   1    12  22        0        1   \n",
       "17378    17379  2012-12-31       1   1    12  23        0        1   \n",
       "\n",
       "       workingday  weathersit  temp   atemp   hum  windspeed  casual  \\\n",
       "17374           1           2  0.26  0.2576  0.60     0.1642      11   \n",
       "17375           1           2  0.26  0.2576  0.60     0.1642       8   \n",
       "17376           1           1  0.26  0.2576  0.60     0.1642       7   \n",
       "17377           1           1  0.26  0.2727  0.56     0.1343      13   \n",
       "17378           1           1  0.26  0.2727  0.65     0.1343      12   \n",
       "\n",
       "       registered  cnt  \n",
       "17374         108  119  \n",
       "17375          81   89  \n",
       "17376          83   90  \n",
       "17377          48   61  \n",
       "17378          37   49  "
      ]
     },
     "execution_count": 3,
     "metadata": {},
     "output_type": "execute_result"
    }
   ],
   "source": [
    "bike_rentals = pd.read_csv('hour.csv')\n",
    "print(bike_rentals.shape)\n",
    "bike_rentals.tail()"
   ]
  },
  {
   "cell_type": "markdown",
   "metadata": {},
   "source": [
    "## Dataset exploration:\n",
    "\n",
    "The dataset has 17379 rows. Each of these corresponds to a single hour of bike rentals. \n",
    "\n",
    "columns:\n",
    "\n",
    "* `instant`: unique identifier for every hour\n",
    "* `dteday`: day on which the bike rentals occurred\n",
    "* `season`: 1-4 corresponding to the season\n",
    "* `yr`: year in which the bike rentals occurred (0: 2011, 1: 2012)\n",
    "* `hr`: hour of the day\n",
    "* `holiday`: whether the rental day was a holiday or not\n",
    "* `weekday`: 0-6 (Sun - Sat)\n",
    "* `workingday`: identifier of wheter the day was a workday\n",
    "* `weathersit`: 1-4 identifier of the weather during the hour\n",
    "* `temp`: 0-1 temperature scale\n",
    "* `atemp`: adjusted temperature\n",
    "* `hum`: humidity\n",
    "* `windspeed`\n",
    "* `casual`: amount of rentals of people not previously registered as renters\n",
    "* `registered`: amount of rentals by previously registered users \n",
    "* `cnt`: combined count of both casual and registered users\n",
    "\n",
    "All of the columns up to `windspeed` can be used to predict the target: `cnt`. `casual` and `registered` can't be used as they contain direct information on the number of rentals."
   ]
  },
  {
   "cell_type": "code",
   "execution_count": 4,
   "metadata": {},
   "outputs": [
    {
     "data": {
      "text/plain": [
       "Text(0.5, 1.0, 'Typical Bike Rental Amounts')"
      ]
     },
     "execution_count": 4,
     "metadata": {},
     "output_type": "execute_result"
    },
    {
     "data": {
      "image/png": "[encoded data removed]",
      "text/plain": [
       "<Figure size 432x288 with 1 Axes>"
      ]
     },
     "metadata": {
      "needs_background": "light"
     },
     "output_type": "display_data"
    }
   ],
   "source": [
    "bike_rentals.cnt.plot.hist()\n",
    "plt.title('Typical Bike Rental Amounts')"
   ]
  },
  {
   "cell_type": "markdown",
   "metadata": {},
   "source": [
    "In most hour intervals between 0-100 bikes are rented each hour. This makes sense, since bikes are not useful at night and throughout most of the day. Very few intervals exceed 800 rentals. These exceptions are likely during summer on special occasions or on very nice days. When analyzing the efficiency of the models it is important to ensure that they do not only predict low bike rentals. A model that only predicts low bike rentals would in general look very accurate, due to the overwhelming amount of these hours, but this type of model would be completely useless"
   ]
  },
  {
   "cell_type": "markdown",
   "metadata": {},
   "source": [
    "## Correlations"
   ]
  },
  {
   "cell_type": "code",
   "execution_count": 6,
   "metadata": {},
   "outputs": [
    {
     "data": {
      "text/plain": [
       "instant       0.278379\n",
       "season        0.178056\n",
       "yr            0.250495\n",
       "mnth          0.120638\n",
       "hr            0.394071\n",
       "holiday      -0.030927\n",
       "weekday       0.026900\n",
       "workingday    0.030284\n",
       "weathersit   -0.142426\n",
       "temp          0.404772\n",
       "atemp         0.400929\n",
       "hum          -0.322911\n",
       "windspeed     0.093234\n",
       "casual        0.694564\n",
       "registered    0.972151\n",
       "cnt           1.000000\n",
       "Name: cnt, dtype: float64"
      ]
     },
     "execution_count": 6,
     "metadata": {},
     "output_type": "execute_result"
    }
   ],
   "source": [
    "bike_rentals.corr()['cnt']"
   ]
  },
  {
   "cell_type": "markdown",
   "metadata": {},
   "source": [
    "The columns that will be excluded (`casual` and `registered`) show the strongest correlation to the target column. This is not surprising as they contain the information of `cnt` directly. `registered` has a much stronger correlation than `casual`, implying that a majority of rentals is to repeat customers. \n",
    "Of the remaining columns, the strongest correlations are the two temperature columns (`temp`, `atemp`). Since these provide redundant information one should also be excluded from the analysis. The humidity column `hum` is also strongly correlated, but this could also provide redundant information to two temperature columns. The `hr` column also shows a strong correlation. This makes sense since riding a bike will have certain key hours.\n",
    "This behavior can also be seen in the following heatmap:"
   ]
  },
  {
   "cell_type": "code",
   "execution_count": 73,
   "metadata": {},
   "outputs": [
    {
     "data": {
      "text/plain": [
       "<matplotlib.axes._subplots.AxesSubplot at 0x1a4ec484948>"
      ]
     },
     "execution_count": 73,
     "metadata": {},
     "output_type": "execute_result"
    },
    {
     "data": {
      "image/png": "[encoded data removed]",
      "text/plain": [
       "<Figure size 432x288 with 2 Axes>"
      ]
     },
     "metadata": {
      "needs_background": "light"
     },
     "output_type": "display_data"
    }
   ],
   "source": [
    "sns.heatmap(bike_rentals.corr())"
   ]
  },
  {
   "cell_type": "markdown",
   "metadata": {},
   "source": [
    "## Transforming different features\n",
    "\n",
    "The `hr` column can be transformed to provide more information to a machine learning algorithm. Categorizing the hours into times of the day (morning, afternoon, evening, night) would make this column more useful as a feature. The hours will be categorized in the following way:\n",
    "* 6-12  -> 1\n",
    "* 12-18 -> 2\n",
    "* 18-24 -> 3\n",
    "* 0-6   -> 4"
   ]
  },
  {
   "cell_type": "code",
   "execution_count": 8,
   "metadata": {},
   "outputs": [],
   "source": [
    "def hr_cat(hr):\n",
    "    '''Categorize the hours of the day into intervals\n",
    "    Args:\n",
    "        hr (int): hour of the day using 24 hr system\n",
    "    Returns:\n",
    "        int: category of hour\n",
    "    '''\n",
    "    if hr < 6:\n",
    "        return 4\n",
    "    elif hr < 12:\n",
    "        return 1\n",
    "    elif hr < 18:\n",
    "        return 2\n",
    "    else:\n",
    "        return 3"
   ]
  },
  {
   "cell_type": "code",
   "execution_count": 9,
   "metadata": {},
   "outputs": [],
   "source": [
    "bike_rentals['time_label'] = bike_rentals.hr.apply(hr_cat)"
   ]
  },
  {
   "cell_type": "markdown",
   "metadata": {},
   "source": [
    "## Splitting the dataset into a training set and a test set\n",
    "\n",
    "This is necessary when employing machine learning algorithms, because testing the algorithms on the same dataset as the one the models are trained on can mask issues with overfitting. This means that the algorithm basically memorizes the dataset instead of finding patterns in the dataset. This can cause a very high accuracy when predicting the training set, but causes the model to perform poorly on new data and generalizing very badly. In this case 80% of the dataset will be allocated to the training set and 20% to the test set. To make sure the model is not biased towards a subset of the dataset, the dataset will be randomized before dividing it into the two subsets. A random seed will be set to make the results reproducible."
   ]
  },
  {
   "cell_type": "code",
   "execution_count": 10,
   "metadata": {},
   "outputs": [],
   "source": [
    "np.random.seed(1)\n",
    "bike_rentals = bike_rentals.reindex(np.random.permutation(bike_rentals.index))"
   ]
  },
  {
   "cell_type": "code",
   "execution_count": 11,
   "metadata": {},
   "outputs": [],
   "source": [
    "splt_ind = math.floor(len(bike_rentals) * 0.8)\n",
    "train = bike_rentals.iloc[:splt_ind].copy()\n",
    "test = bike_rentals.loc[bike_rentals.index.isin(train.index) == False].copy()\n",
    "train.sort_values('instant', inplace = True)\n",
    "test.sort_values('instant', inplace = True)\n",
    "bike_rentals.sort_values('instant' , inplace = True)"
   ]
  },
  {
   "cell_type": "markdown",
   "metadata": {},
   "source": [
    "## Feature Selection:\n",
    "\n",
    "First the features for use by the different machine learning models have to be selected:\n",
    "* The `casual` and `registered` columns will be excluded because they contain all the information of cnt\n",
    "\n",
    "* `instant` can be excluded, as it does not provide any information because it is just the unique identifier\n",
    "\n",
    "* the only bit of unique information contained in `dteday` is the day of the month. This piece of information does not seem relevant in this case, since the part of the month should not impact how many bikes are rented, so it will be ignored.\n",
    "\n",
    "* the rest of the features seem relevant:\n",
    "    * `season`: people might be more likely to rent bikes in the spring and summer than in the winter and maybe autumn\n",
    "    * `yr`: Interestingly enough this column showed strong correlation to the target column, so maybe the reason this dataset was collected was a change in the bike rental system in Washington D.C. or some other external factor made the rentals different in the two years (very rainy summer in the one year, publicity campaign drawing attention to the bike rental system, change in pricing model ...). But maybe this correlation is misleading and irrelevant.\n",
    "    * `mnth`: This column has some redundant information with the `season column` but is more fine_grained. it is not normalized\n",
    "    * `weekday`: seems very relevant as people are more likely to ride bikes in their free time on weekends and more likely to ride bikes to work within the week.\n",
    "    * `workingday`: may provide mostly redundant information with weekday as most non-working days are sundays. The days off might be a valuable resource, though, so tranforming this column to show only non-sunday free days might be worth looking into.\n",
    "    * `weathersit`: seems important, as most people will avoid riding bikes on rainy or snowy days\n",
    "    * `temp` amd `atemp` are important indicators as one would expect there to be a Goldilocks zone for bike riding. They do, however provide redundant information and one should be chosen.\n",
    "    * `hum`, `windspeed`: might provide complimentary information to `temp` and `weathersit`. \n",
    "    \n",
    "    \n",
    "The combination of the four columns giving information about the weather situation (`weathersit`, `temp` or `atemp`, `hum` and `windspeed`) will be particularly interesting. These all provide complimentary information. The `LinearRegression` model can't combine complimentary information as it treats the features as independent. Also these features don't necessarily interact linearly with the amount of bike riders. For example while a higher temperature is generally more likely to get more people on bikes, on a hot summer day above a certain point (30°C) less people will be likely to ride bikes. This is then also coupled with the humidity and wind indicator as well as the weather as perceived temperature depends heavily on these factors. The `DescisionTree` model should be much better suited to this type of data, as they can handle both non-linearities as well as features that influence each other."
   ]
  },
  {
   "cell_type": "markdown",
   "metadata": {},
   "source": [
    "## Linear Regression Model:\n",
    "\n",
    "The first machine learning model that will be implemented will be a linear regression model. This type of machine learning model is particularly effective on datasets, where there is a strong correlation between independent features and the target column."
   ]
  },
  {
   "cell_type": "code",
   "execution_count": 33,
   "metadata": {},
   "outputs": [
    {
     "data": {
      "text/plain": [
       "Index(['season', 'yr', 'mnth', 'holiday', 'weekday', 'weathersit', 'temp',\n",
       "       'atemp', 'hum', 'windspeed', 'time_label'],\n",
       "      dtype='object')"
      ]
     },
     "execution_count": 33,
     "metadata": {},
     "output_type": "execute_result"
    }
   ],
   "source": [
    "features = bike_rentals.columns[[2,3,4,6,7,9,10,11,12,13,-1]]\n",
    "features"
   ]
  },
  {
   "cell_type": "code",
   "execution_count": 13,
   "metadata": {},
   "outputs": [
    {
     "data": {
      "text/html": [
       "<div>\n",
       "<style scoped>\n",
       "    .dataframe tbody tr th:only-of-type {\n",
       "        vertical-align: middle;\n",
       "    }\n",
       "\n",
       "    .dataframe tbody tr th {\n",
       "        vertical-align: top;\n",
       "    }\n",
       "\n",
       "    .dataframe thead th {\n",
       "        text-align: right;\n",
       "    }\n",
       "</style>\n",
       "<table border=\"1\" class=\"dataframe\">\n",
       "  <thead>\n",
       "    <tr style=\"text-align: right;\">\n",
       "      <th></th>\n",
       "      <th>instant</th>\n",
       "      <th>dteday</th>\n",
       "      <th>season</th>\n",
       "      <th>yr</th>\n",
       "      <th>mnth</th>\n",
       "      <th>hr</th>\n",
       "      <th>holiday</th>\n",
       "      <th>weekday</th>\n",
       "      <th>workingday</th>\n",
       "      <th>weathersit</th>\n",
       "      <th>temp</th>\n",
       "      <th>atemp</th>\n",
       "      <th>hum</th>\n",
       "      <th>windspeed</th>\n",
       "      <th>casual</th>\n",
       "      <th>registered</th>\n",
       "      <th>cnt</th>\n",
       "      <th>time_label</th>\n",
       "    </tr>\n",
       "  </thead>\n",
       "  <tbody>\n",
       "    <tr>\n",
       "      <th>0</th>\n",
       "      <td>1</td>\n",
       "      <td>2011-01-01</td>\n",
       "      <td>1</td>\n",
       "      <td>0</td>\n",
       "      <td>1</td>\n",
       "      <td>0</td>\n",
       "      <td>0</td>\n",
       "      <td>6</td>\n",
       "      <td>0</td>\n",
       "      <td>1</td>\n",
       "      <td>0.24</td>\n",
       "      <td>0.2879</td>\n",
       "      <td>0.81</td>\n",
       "      <td>0.0</td>\n",
       "      <td>3</td>\n",
       "      <td>13</td>\n",
       "      <td>16</td>\n",
       "      <td>4</td>\n",
       "    </tr>\n",
       "    <tr>\n",
       "      <th>1</th>\n",
       "      <td>2</td>\n",
       "      <td>2011-01-01</td>\n",
       "      <td>1</td>\n",
       "      <td>0</td>\n",
       "      <td>1</td>\n",
       "      <td>1</td>\n",
       "      <td>0</td>\n",
       "      <td>6</td>\n",
       "      <td>0</td>\n",
       "      <td>1</td>\n",
       "      <td>0.22</td>\n",
       "      <td>0.2727</td>\n",
       "      <td>0.80</td>\n",
       "      <td>0.0</td>\n",
       "      <td>8</td>\n",
       "      <td>32</td>\n",
       "      <td>40</td>\n",
       "      <td>4</td>\n",
       "    </tr>\n",
       "    <tr>\n",
       "      <th>2</th>\n",
       "      <td>3</td>\n",
       "      <td>2011-01-01</td>\n",
       "      <td>1</td>\n",
       "      <td>0</td>\n",
       "      <td>1</td>\n",
       "      <td>2</td>\n",
       "      <td>0</td>\n",
       "      <td>6</td>\n",
       "      <td>0</td>\n",
       "      <td>1</td>\n",
       "      <td>0.22</td>\n",
       "      <td>0.2727</td>\n",
       "      <td>0.80</td>\n",
       "      <td>0.0</td>\n",
       "      <td>5</td>\n",
       "      <td>27</td>\n",
       "      <td>32</td>\n",
       "      <td>4</td>\n",
       "    </tr>\n",
       "    <tr>\n",
       "      <th>3</th>\n",
       "      <td>4</td>\n",
       "      <td>2011-01-01</td>\n",
       "      <td>1</td>\n",
       "      <td>0</td>\n",
       "      <td>1</td>\n",
       "      <td>3</td>\n",
       "      <td>0</td>\n",
       "      <td>6</td>\n",
       "      <td>0</td>\n",
       "      <td>1</td>\n",
       "      <td>0.24</td>\n",
       "      <td>0.2879</td>\n",
       "      <td>0.75</td>\n",
       "      <td>0.0</td>\n",
       "      <td>3</td>\n",
       "      <td>10</td>\n",
       "      <td>13</td>\n",
       "      <td>4</td>\n",
       "    </tr>\n",
       "    <tr>\n",
       "      <th>4</th>\n",
       "      <td>5</td>\n",
       "      <td>2011-01-01</td>\n",
       "      <td>1</td>\n",
       "      <td>0</td>\n",
       "      <td>1</td>\n",
       "      <td>4</td>\n",
       "      <td>0</td>\n",
       "      <td>6</td>\n",
       "      <td>0</td>\n",
       "      <td>1</td>\n",
       "      <td>0.24</td>\n",
       "      <td>0.2879</td>\n",
       "      <td>0.75</td>\n",
       "      <td>0.0</td>\n",
       "      <td>0</td>\n",
       "      <td>1</td>\n",
       "      <td>1</td>\n",
       "      <td>4</td>\n",
       "    </tr>\n",
       "  </tbody>\n",
       "</table>\n",
       "</div>"
      ],
      "text/plain": [
       "   instant      dteday  season  yr  mnth  hr  holiday  weekday  workingday  \\\n",
       "0        1  2011-01-01       1   0     1   0        0        6           0   \n",
       "1        2  2011-01-01       1   0     1   1        0        6           0   \n",
       "2        3  2011-01-01       1   0     1   2        0        6           0   \n",
       "3        4  2011-01-01       1   0     1   3        0        6           0   \n",
       "4        5  2011-01-01       1   0     1   4        0        6           0   \n",
       "\n",
       "   weathersit  temp   atemp   hum  windspeed  casual  registered  cnt  \\\n",
       "0           1  0.24  0.2879  0.81        0.0       3          13   16   \n",
       "1           1  0.22  0.2727  0.80        0.0       8          32   40   \n",
       "2           1  0.22  0.2727  0.80        0.0       5          27   32   \n",
       "3           1  0.24  0.2879  0.75        0.0       3          10   13   \n",
       "4           1  0.24  0.2879  0.75        0.0       0           1    1   \n",
       "\n",
       "   time_label  \n",
       "0           4  \n",
       "1           4  \n",
       "2           4  \n",
       "3           4  \n",
       "4           4  "
      ]
     },
     "execution_count": 13,
     "metadata": {},
     "output_type": "execute_result"
    }
   ],
   "source": [
    "bike_rentals.head()"
   ]
  },
  {
   "cell_type": "code",
   "execution_count": 14,
   "metadata": {},
   "outputs": [],
   "source": [
    "from sklearn.linear_model import LinearRegression\n",
    "from sklearn.metrics import mean_squared_error"
   ]
  },
  {
   "cell_type": "code",
   "execution_count": 16,
   "metadata": {},
   "outputs": [],
   "source": [
    "def train_and_test_linreg(features):\n",
    "    '''Train and test a linear regression model\n",
    "    Kwargs:\n",
    "        features(list): list of features to use\n",
    "    Returns:\n",
    "        float, float: root mean squared error of the model divided by the averarge number of bike rentals in\n",
    "        both the train and test set\n",
    "    '''\n",
    "    lr = LinearRegression(normalize = False)\n",
    "    lr.fit(train[features], train.cnt)\n",
    "    predictions_test = lr.predict(test[features])\n",
    "    predictions_train = lr.predict(train[features])\n",
    "    rmse_test = mean_squared_error(test.cnt, predictions_test)**0.5\n",
    "    rmse_train = mean_squared_error(train.cnt, predictions_train)**0.5\n",
    "    return rmse_train/train.cnt.mean(), rmse_test/test.cnt.mean()"
   ]
  },
  {
   "cell_type": "code",
   "execution_count": 17,
   "metadata": {},
   "outputs": [
    {
     "data": {
      "text/plain": [
       "Index(['season', 'yr', 'mnth', 'holiday', 'weekday', 'weathersit', 'temp',\n",
       "       'atemp', 'hum', 'windspeed', 'time_label'],\n",
       "      dtype='object')"
      ]
     },
     "execution_count": 17,
     "metadata": {},
     "output_type": "execute_result"
    }
   ],
   "source": [
    "features"
   ]
  },
  {
   "cell_type": "code",
   "execution_count": 18,
   "metadata": {},
   "outputs": [
    {
     "data": {
      "text/plain": [
       "(0.7325532452040268, 0.7367110216992667)"
      ]
     },
     "execution_count": 18,
     "metadata": {},
     "output_type": "execute_result"
    }
   ],
   "source": [
    "train_and_test_linreg(features)"
   ]
  },
  {
   "cell_type": "markdown",
   "metadata": {},
   "source": [
    "This model does not seem to be performing very well, as the rmse is $73\\%$ of the mean of the `cnt` column of the test set.\n",
    "\n",
    "The error metric is, however very similar when using the model on both the training set and the testing set. This means, that the model is performing very similarly with the data it was trained on as with new data. This indicates that the model does not suffer from a large amount of overfitting, meaning it does not become too specialized to the training data, essentially memorizing it. This is not surprising as the regression model is very resistant to overfitting and tends to, instead suffer from underfitting, meaning the constructed model is too primitive to explain the data properly. This is not surprising, since the individual columns are not well suited for a regression model.\n",
    "\n",
    "The model might be improved by excluding several columns, that are not well suited to a linear regression model. Unfortunately none of the features can be expected to linearly predict the target. For this reason the uncertainty of every one of the features will be tested individually. \n"
   ]
  },
  {
   "cell_type": "code",
   "execution_count": 19,
   "metadata": {},
   "outputs": [
    {
     "name": "stdout",
     "output_type": "stream",
     "text": [
      "(0.9421824466149155, 0.9414218396789312)\n",
      "(0.9266034721217412, 0.927649223157784)\n",
      "(0.9506240497627262, 0.9491587320230251)\n",
      "(0.9572445766494567, 0.9553224612450644)\n",
      "(0.9574373382169383, 0.9550746736088169)\n",
      "(0.9475738896941256, 0.9475802346841998)\n",
      "(0.8754196838372225, 0.87528730090271)\n",
      "(0.8772152818657123, 0.8761691377807036)\n",
      "(0.9059637827381265, 0.9063795063766033)\n",
      "(0.9529411193170021, 0.9542072965911018)\n",
      "(0.8857687695654093, 0.8879319377712799)\n"
     ]
    }
   ],
   "source": [
    "for column in features:\n",
    "    print(train_and_test_linreg([column]))"
   ]
  },
  {
   "cell_type": "markdown",
   "metadata": {},
   "source": [
    "individually all the columns seem to be hehaving very poorly. So in order to use them as features in a linear regression model, a lot of feature engineering will probably be necessary. But maybe the 0.73 can be improved by ignoring the features that intuitively do not work very well in a regression model."
   ]
  },
  {
   "cell_type": "code",
   "execution_count": 20,
   "metadata": {},
   "outputs": [
    {
     "data": {
      "text/plain": [
       "(0.8040155496420852, 0.8046045197365965)"
      ]
     },
     "execution_count": 20,
     "metadata": {},
     "output_type": "execute_result"
    }
   ],
   "source": [
    "train_and_test_linreg(['season','holiday', 'weekday', 'temp','time_label'])"
   ]
  },
  {
   "cell_type": "markdown",
   "metadata": {},
   "source": [
    "Unfortunately doing this only increased the error further. The only solution of making the linear regression model viable may be either to exclude extreme values from the training set or, alternatively, to use a different algorithm:"
   ]
  },
  {
   "cell_type": "markdown",
   "metadata": {},
   "source": [
    "## Decision Tree:\n",
    "\n",
    "Now a decision tree will be implemented to be trained and tested on the same dataset. This algorithm is predicted to work better on the given data due to the aforementioned factors:\n",
    "\n",
    "* non-linear correlation between features and target\n",
    "* features that are not independent (weather features, time features)\n",
    "* useful data divided into different columns (to get a clear understanding of the weather four columns have to be combined)"
   ]
  },
  {
   "cell_type": "code",
   "execution_count": 21,
   "metadata": {},
   "outputs": [],
   "source": [
    "from sklearn.tree import DecisionTreeRegressor"
   ]
  },
  {
   "cell_type": "code",
   "execution_count": 47,
   "metadata": {},
   "outputs": [],
   "source": [
    "def train_and_test_tree(features, md = None, min_lf = 1, min_split = 2):\n",
    "    '''Train and test a descision tree model\n",
    "    Kwargs:\n",
    "        features(list of strings): list of the column names of the features to use\n",
    "        md = None (int): Max depth of the descision tree\n",
    "        min_lf = 1 (int): minimum items per leaf\n",
    "        min_split = 2 (int): minimum number of items per split\n",
    "    Returns:\n",
    "        float, float: root mean squared error of the model when applied to the training and testing set\n",
    "        divided by the mean value of the given set\n",
    "    '''\n",
    "    tr = DecisionTreeRegressor(max_depth = md, min_samples_leaf = 2, min_samples_split = min_split)\n",
    "    tr.fit(train[features], train.cnt)\n",
    "    predictions_test = tr.predict(test[features])\n",
    "    predictions_train = tr.predict(train[features])\n",
    "    rmse_test = mean_squared_error(test.cnt, predictions_test)**0.5\n",
    "    rmse_train = mean_squared_error(train.cnt, predictions_train)**0.5\n",
    "    return rmse_train/train.cnt.mean(), rmse_test/train.cnt.mean()"
   ]
  },
  {
   "cell_type": "markdown",
   "metadata": {},
   "source": [
    "Using the decision tree model with standard settings:"
   ]
  },
  {
   "cell_type": "code",
   "execution_count": 53,
   "metadata": {},
   "outputs": [
    {
     "data": {
      "text/plain": [
       "(0.09900331998637636, 0.2935086990417231)"
      ]
     },
     "execution_count": 53,
     "metadata": {},
     "output_type": "execute_result"
    }
   ],
   "source": [
    "train_and_test_tree(features)"
   ]
  },
  {
   "cell_type": "markdown",
   "metadata": {},
   "source": [
    "This decision tree model shows very large improvements when compared to the linear regression model. But there is a very high difference between the error it has when applied to the train and test sets. This implies, that the model is overfitting. In a decision tree, this means that the model divides the datasets into too many small groups. This can often cause it to only have single items on each leaf and only small numbers of items at each branch. This means the model becomes to complex. To alleviate this issue, the user can directly reduce the complexity of the model:"
   ]
  },
  {
   "cell_type": "code",
   "execution_count": 46,
   "metadata": {},
   "outputs": [
    {
     "data": {
      "text/plain": [
       "(0.25364178051898845, 0.31828774696429313)"
      ]
     },
     "execution_count": 46,
     "metadata": {},
     "output_type": "execute_result"
    }
   ],
   "source": [
    "train_and_test_tree(features, 10, 3, 5)"
   ]
  },
  {
   "cell_type": "markdown",
   "metadata": {},
   "source": [
    "This model was limited to a max depth of 10, a minimum of 3 items per leaf and a minimum split of 5. While it performs slightly worse than the model with standard settings on both the train and test set, the errors are much more comparable. This implies that the issue with overfitting has been reduced. To get an even better result, next, random forest models will be tested. These are made up of an ensemble of decision trees created at random while picking random features from the available ones."
   ]
  },
  {
   "cell_type": "markdown",
   "metadata": {},
   "source": [
    "## Random Forest Model\n",
    "\n",
    "A random forest model will be used to improve on the decision tree model. This type of model is typically much more resistant to overfitting than a single decision tree and much better at analyzing complex data."
   ]
  },
  {
   "cell_type": "code",
   "execution_count": 56,
   "metadata": {},
   "outputs": [],
   "source": [
    "from sklearn.ensemble import RandomForestRegressor\n",
    "def train_and_test_forest(features, n_est = 10, nj = -1, min_lf = 1, mx_dpth = None, mx_ft = 'auto'):\n",
    "    '''Train and Test a random forest model\n",
    "    Kwargs:\n",
    "        features(list of strings): list of the column names of the features to use\n",
    "        n_est = 10 (ind): number of decision trees in the random forest model\n",
    "        nj = -1 (int): number of jobs for parallelization (number of threads of your processor)\n",
    "        min_lf = 1 (int): minimum number of items per leaf\n",
    "        mx_depth = None (int): maximum depth of the trees\n",
    "        mx_ft = 'auto' (int, str): maximum number of features to use for each tree\n",
    "    Returns:\n",
    "        float, float: root mean squared error of the model when applied to both the train and test set\n",
    "        divided by the mean number of rentals in the respective dataset\n",
    "    '''\n",
    "    fr = RandomForestRegressor(n_estimators = n_est, n_jobs = nj, min_samples_leaf = min_lf,\n",
    "                               max_depth = mx_dpth, max_features = mx_ft)\n",
    "    fr.fit(train[features], train.cnt)\n",
    "    predictions_train = fr.predict(train[features])\n",
    "    predictions_test = fr.predict(test[features])\n",
    "    rmse_train = mean_squared_error(train.cnt, predictions_train)**0.5\n",
    "    rmse_test = mean_squared_error(test.cnt, predictions_test)**0.5\n",
    "    return rmse_train/train.cnt.mean(), rmse_test/test.cnt.mean()"
   ]
  },
  {
   "cell_type": "code",
   "execution_count": 60,
   "metadata": {},
   "outputs": [
    {
     "data": {
      "text/plain": [
       "(0.10105637922021807, 0.24477740364143988)"
      ]
     },
     "execution_count": 60,
     "metadata": {},
     "output_type": "execute_result"
    }
   ],
   "source": [
    "train_and_test_forest(features)\n"
   ]
  },
  {
   "cell_type": "markdown",
   "metadata": {},
   "source": [
    "While the random forest performs slightly better than the decision tree model, using the standard settings again shows a strong difference between the error on the training and the test set. This again implies the model is overfitting. For this reason the impact of different settings on the resulting errors will be analyzed:"
   ]
  },
  {
   "cell_type": "markdown",
   "metadata": {},
   "source": [
    "## Influence of settings on model:"
   ]
  },
  {
   "cell_type": "code",
   "execution_count": 69,
   "metadata": {},
   "outputs": [
    {
     "data": {
      "image/png": "[encoded data removed]",
      "text/plain": [
       "<Figure size 432x288 with 1 Axes>"
      ]
     },
     "metadata": {
      "needs_background": "light"
     },
     "output_type": "display_data"
    }
   ],
   "source": [
    "ises = []\n",
    "mse_tr = []\n",
    "mse_te = []\n",
    "for i in [1, 2, 5, 10, 20, 30, 40, 50, 100, 500, 1000]:\n",
    "    ises.append(i)\n",
    "    results = train_and_test_forest(features, n_est = i)\n",
    "    mse_tr.append(results[0])\n",
    "    mse_te.append(results[1])\n",
    "plt.plot(ises, mse_tr, label = 'training error')\n",
    "plt.plot(ises, mse_te, label = 'testing error')\n",
    "plt.title('RMSE/mean vs. Number of Trees')\n",
    "plt.legend()\n",
    "plt.show()"
   ]
  },
  {
   "cell_type": "markdown",
   "metadata": {},
   "source": [
    "The improvement to the error shows strongly diminishing returns when using more than about 50 trees to construct the forest. the strong difference in errors could be caused by the individual trees being too complex. This should be addressed next:"
   ]
  },
  {
   "cell_type": "code",
   "execution_count": 70,
   "metadata": {},
   "outputs": [
    {
     "data": {
      "image/png": "[encoded data removed]",
      "text/plain": [
       "<Figure size 432x288 with 1 Axes>"
      ]
     },
     "metadata": {
      "needs_background": "light"
     },
     "output_type": "display_data"
    }
   ],
   "source": [
    "ises = []\n",
    "mse_tr = []\n",
    "mse_te = []\n",
    "for i in range(1,20):\n",
    "    ises.append(i)\n",
    "    results = train_and_test_forest(features,n_est = 50, min_lf = i)\n",
    "    mse_tr.append(results[0])\n",
    "    mse_te.append(results[1])\n",
    "plt.plot(ises, mse_tr, label = 'training error')\n",
    "plt.plot(ises, mse_te, label = 'testing error')\n",
    "plt.title('RMSE/mean vs. Minimum Number of Items per Leaf')\n",
    "plt.legend()\n",
    "plt.show()"
   ]
  },
  {
   "cell_type": "raw",
   "metadata": {},
   "source": [
    "increasing the `minimum_samples_leaf` parameter reduces overfitting. It also increases the error in both the training set as well as the test set. 5 Seems to be a reasonable setting"
   ]
  },
  {
   "cell_type": "code",
   "execution_count": 71,
   "metadata": {},
   "outputs": [
    {
     "data": {
      "image/png": "[encoded data removed]",
      "text/plain": [
       "<Figure size 432x288 with 1 Axes>"
      ]
     },
     "metadata": {
      "needs_background": "light"
     },
     "output_type": "display_data"
    }
   ],
   "source": [
    "ises = []\n",
    "mse_tr = []\n",
    "mse_te = []\n",
    "for i in range(1,50):\n",
    "    ises.append(i)\n",
    "    results = train_and_test_forest(features,n_est = 50, min_lf = 5, mx_dpth = i,nj = 4)\n",
    "    mse_tr.append(results[0])\n",
    "    mse_te.append(results[1])\n",
    "plt.plot(ises, mse_tr, label = 'training error')\n",
    "plt.plot(ises, mse_te, label = 'testing error')\n",
    "plt.title('RMSE/mean vs. max Depth')\n",
    "plt.legend()\n",
    "plt.show()"
   ]
  },
  {
   "cell_type": "markdown",
   "metadata": {},
   "source": [
    "Max depth: More than 10 leads to overfitting in individual trees"
   ]
  },
  {
   "cell_type": "code",
   "execution_count": 66,
   "metadata": {},
   "outputs": [
    {
     "data": {
      "text/plain": [
       "(0.23736361065682451, 0.28126897084090907)"
      ]
     },
     "execution_count": 66,
     "metadata": {},
     "output_type": "execute_result"
    }
   ],
   "source": [
    "train_and_test_forest(features, n_est = 50, min_lf = 5, mx_dpth = 10)"
   ]
  },
  {
   "cell_type": "markdown",
   "metadata": {},
   "source": [
    "With these settings, the model performs well and the issue with overfitting is significantly reduced."
   ]
  },
  {
   "cell_type": "markdown",
   "metadata": {},
   "source": [
    "# Summary\n",
    "\n",
    "In this project, a dataset containing information about bike rentals in Washington D.C. was used to construct different machine learning models in an attempt to predict the number of rentals on a given day. The error that was used to analyze the models was the root mean squared error divided by the mean number of rentals for the dataset being used.\n",
    "\n",
    "The linear regression model reached an error of about 0.8 (rmse/mean). This is most likely due to the fact, that this type of model is very limited by the fact that it assumes that the features are both independent and have a linear relationship to the target value.\n",
    "\n",
    "Next, a decision tree model was constructed, which performed much better with an error of about 0.31 on the test set. It did show signs of overfitting and in order to reduct this issue, the complexity of the tree was limited.\n",
    "\n",
    "Finally, a random forest model was used. After optimizing the parameters of the model to again reduce the complexity of the individual trees and find the ideal number of trees, the model reached an error of 0.28."
   ]
  }
 ],
 "metadata": {
  "kernelspec": {
   "display_name": "Python 3",
   "language": "python",
   "name": "python3"
  },
  "language_info": {
   "codemirror_mode": {
    "name": "ipython",
    "version": 3
   },
   "file_extension": ".py",
   "mimetype": "text/x-python",
   "name": "python",
   "nbconvert_exporter": "python",
   "pygments_lexer": "ipython3",
   "version": "3.7.6"
  }
 },
 "nbformat": 4,
 "nbformat_minor": 2
}
